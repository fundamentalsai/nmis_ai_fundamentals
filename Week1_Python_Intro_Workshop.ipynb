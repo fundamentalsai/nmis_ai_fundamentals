{
 "cells": [
  {
   "cell_type": "markdown",
   "metadata": {},
   "source": [
    "# Data Science for Manufacturing - Workshop Week 1"
   ]
  },
  {
   "cell_type": "markdown",
   "metadata": {},
   "source": [
    "##  Objectives\n",
    "\n",
    "- 1 Introduction to the Jupyter Norebook environment.\n",
    "\n",
    "- 2 Introduction to Python\n",
    "\n",
    "  - 2.1 Variables\n",
    "\n",
    "  - 2.2 Data Types\n",
    "\n",
    "  - 2.3 Functions\n",
    "\n",
    "  - 2.4 Order\n",
    "\n",
    "  - 2.5 Type Conversion\n",
    "\n",
    "  - 2.6 What's Wrong\n",
    "\n",
    "  - 2.7 Try Yourself"
   ]
  },
  {
   "cell_type": "markdown",
   "metadata": {},
   "source": [
    "## 1 Introduction to the Jupyter Notebook environment"
   ]
  },
  {
   "cell_type": "markdown",
   "metadata": {},
   "source": [
    "Jupyter Notebook is an open-source web application that allows you to create and share documents that contain live code, equations, visualizations, and narrative text. It supports various programming languages including, but not limited to, Python, R, and Julia."
   ]
  },
  {
   "cell_type": "markdown",
   "metadata": {},
   "source": [
    "### 1.1 Jupyter Notebook Cheatsheet"
   ]
  },
  {
   "cell_type": "markdown",
   "metadata": {},
   "source": [
    "[Jupyter Notebook datacamp cheatsheet web link](https://www.datacamp.com/community/blog/jupyter-notebook-cheat-sheet)"
   ]
  },
  {
   "cell_type": "markdown",
   "metadata": {},
   "source": [
    "### 1.2 Kernel\n",
    "\n",
    "The kernel is the computational engine that executes the code contained in a notebook.\n",
    "You can restart the kernel, clear output, and interrupt the execution of code.\n",
    "\n",
    "A kernel is responsible for all cells in a notebook. Although cells can be run individually, variables created in early cells are knowns when running later cells.\n",
    "\n",
    "A kernel is specific to a running of the current notebook. Once a notebook is stopped and restarted, the kernel is renewed too. Data from pervious runnings are removed from the kernel."
   ]
  },
  {
   "cell_type": "markdown",
   "metadata": {},
   "source": [
    "### 1.3 Cells"
   ]
  },
  {
   "cell_type": "markdown",
   "metadata": {},
   "source": [
    "The interface is divided into work cells each containing code, text, or multimedia content. Cells can be executed individually or all together. There are three types of cell:\n",
    "\n",
    "- Code Cells: Contains executable code. Can write and run code snippets in these cells.\n",
    "\n",
    "- Markdown Cells: Contains formatted text using Markdown syntax. Can use for documentation, explanations and annotations.\n",
    "\n",
    "- Raw Cells: Allows writing of unformatted text which is not executed as code or rendered as Markdown."
   ]
  },
  {
   "cell_type": "markdown",
   "metadata": {},
   "source": [
    "### 1.4 Running Code\n",
    "To execute a code cell, press Shift + Enter or use the \"Run\" button in the toolbar.\n",
    "Results and output are displayed directly below the code cell."
   ]
  },
  {
   "cell_type": "markdown",
   "metadata": {},
   "source": [
    "### 1.5 Rich Output\n",
    "\n",
    "Jupyter Notebooks support the display of rich content, including images, plots, charts, and interactive widgets.\n",
    "Matplotlib, Seaborn, and Plotly are popular libraries for creating visualizations in Jupyter."
   ]
  },
  {
   "cell_type": "markdown",
   "metadata": {},
   "source": [
    "## 2 Introduction to Python"
   ]
  },
  {
   "cell_type": "markdown",
   "metadata": {},
   "source": [
    "Python is a high-level, general-purpose programming language known for its readability, simplicity, and versatility.\n",
    "\n",
    "Python is an interpreted language, meaning that code is executed line by line by the Python interpreter.\n",
    "\n",
    "Python uses dynamic typing, allowing variables to change types during runtime.\n",
    "This flexibility makes it easier to write and read code but requires careful attention to variable types."
   ]
  },
  {
   "cell_type": "markdown",
   "metadata": {},
   "source": [
    "### 2.1 Variables"
   ]
  },
  {
   "cell_type": "markdown",
   "metadata": {},
   "source": [
    "In Python, variables are used to store and manage data. There are certain rules that must be followed when creating a variable."
   ]
  },
  {
   "cell_type": "markdown",
   "metadata": {},
   "source": [
    "Variable names can consist of letters using both uppercase and lowercase, digits, and underscore.\n",
    "The name cannot start with a digit.\n",
    "Python is case-sensitive, so myVar and myvar are considered different variables.\n",
    "Descriptive names help convey the purpose of the variable.\n",
    "\n",
    "When writing a line of code the '=' symbol is used to assign values to a variable.\n",
    "\n",
    "Python indices start from 0 instead of 1."
   ]
  },
  {
   "cell_type": "code",
   "execution_count": null,
   "metadata": {},
   "outputs": [],
   "source": [
    "# Valid variable names\n",
    "age = 26\n",
    "user_name = \"Andrew\"\n",
    "total_items = 50\n",
    "\n",
    "# Invalid variable names\n",
    "2nd_attempt = \"Invalid\"  # Cannot start with a digit\n",
    "user-name = \"Invalid\"   # Hyphen is not allowed"
   ]
  },
  {
   "cell_type": "markdown",
   "metadata": {},
   "source": [
    "Avoid using Python reserved keywords as variable names, as they have special meanings in the language."
   ]
  },
  {
   "cell_type": "code",
   "execution_count": null,
   "metadata": {},
   "outputs": [],
   "source": [
    "# Avoid using reserved keywords\n",
    "class = \"Invalid\"\n",
    "if = \"Invalid\""
   ]
  },
  {
   "cell_type": "markdown",
   "metadata": {},
   "source": [
    "### 2.2 Data Types"
   ]
  },
  {
   "cell_type": "markdown",
   "metadata": {},
   "source": [
    "In Python, data types represent the kind of values that variables can hold."
   ]
  },
  {
   "cell_type": "markdown",
   "metadata": {},
   "source": [
    "int: Integer type represents whole numbers without any decimal points."
   ]
  },
  {
   "cell_type": "code",
   "execution_count": 5,
   "metadata": {},
   "outputs": [],
   "source": [
    "a = 5\n",
    "b = 2\n",
    "c = 74"
   ]
  },
  {
   "cell_type": "markdown",
   "metadata": {},
   "source": [
    "Float type represents numbers with decimal points or in exponential form."
   ]
  },
  {
   "cell_type": "code",
   "execution_count": 6,
   "metadata": {},
   "outputs": [],
   "source": [
    "x = 3.14\n",
    "y = 7.29\n",
    "z = 452.63124"
   ]
  },
  {
   "cell_type": "markdown",
   "metadata": {},
   "source": [
    " String type represents sequences of characters and is used for text data."
   ]
  },
  {
   "cell_type": "code",
   "execution_count": 7,
   "metadata": {},
   "outputs": [],
   "source": [
    "word = \"Hello world!\"\n",
    "Part = \"Part01\"\n",
    "input = \"Keyboard Press\""
   ]
  },
  {
   "cell_type": "markdown",
   "metadata": {},
   "source": [
    "Boolean type represents truth values, either True or False."
   ]
  },
  {
   "cell_type": "code",
   "execution_count": null,
   "metadata": {},
   "outputs": [],
   "source": [
    "Yea = True\n",
    "Nay = False"
   ]
  },
  {
   "cell_type": "markdown",
   "metadata": {},
   "source": [
    "List type represents ordered, mutable (changeable) sequences of elements."
   ]
  },
  {
   "cell_type": "code",
   "execution_count": null,
   "metadata": {},
   "outputs": [],
   "source": [
    "my_list = [1, 2, 3, \"four\"]\n",
    "your_list = [3, 2, 1, \"Duck\"]"
   ]
  },
  {
   "cell_type": "markdown",
   "metadata": {},
   "source": [
    "Tuple type represents an ordered, immutable (unchangeable) sequences of elements."
   ]
  },
  {
   "cell_type": "code",
   "execution_count": null,
   "metadata": {},
   "outputs": [],
   "source": [
    "my_tuple = (1, 2, 3, \"four\")\n",
    "your_tuple = (3, 2, 1, \"Goose\")"
   ]
  },
  {
   "cell_type": "markdown",
   "metadata": {},
   "source": [
    "Dictionary is a container that holds pairs of objects: keys and values, in the format of {key: value}"
   ]
  },
  {
   "cell_type": "code",
   "execution_count": null,
   "metadata": {},
   "outputs": [],
   "source": [
    "inventory = {'part1':22, 'part2':93} #keys are part numbers, values are weights\n",
    "inventory['part1']"
   ]
  },
  {
   "cell_type": "markdown",
   "metadata": {},
   "source": [
    "To add an item to the dictionary we assign a value to a new key:"
   ]
  },
  {
   "cell_type": "code",
   "execution_count": null,
   "metadata": {},
   "outputs": [],
   "source": [
    "inventory['part3'] = 110\n",
    "print(inventory)"
   ]
  },
  {
   "cell_type": "markdown",
   "metadata": {},
   "source": [
    "### 2.3 Functions"
   ]
  },
  {
   "cell_type": "markdown",
   "metadata": {},
   "source": [
    "In Python, a function is a section of reusable code created to perform a specific task. Functions help organize code, improve readability and facilitate code reuse. Python provides built-in functions as well as the ability to create custom functions as required."
   ]
  },
  {
   "cell_type": "markdown",
   "metadata": {},
   "source": [
    "#### 2.3.1. Print"
   ]
  },
  {
   "cell_type": "markdown",
   "metadata": {},
   "source": [
    "Python has a built-in function called `print()` that prints data as text.  \n",
    "The function is called as shown below."
   ]
  },
  {
   "cell_type": "code",
   "execution_count": 8,
   "metadata": {},
   "outputs": [
    {
     "name": "stdout",
     "output_type": "stream",
     "text": [
      "5\n"
     ]
    }
   ],
   "source": [
    "print(a)"
   ]
  },
  {
   "cell_type": "markdown",
   "metadata": {},
   "source": [
    "Single elements within arrays can be selected seperately as shown below."
   ]
  },
  {
   "cell_type": "code",
   "execution_count": null,
   "metadata": {},
   "outputs": [],
   "source": [
    "print(my_list[3])\n",
    "print(your_tuple[1])"
   ]
  },
  {
   "cell_type": "markdown",
   "metadata": {},
   "source": [
    "Complex prints can be carried out mixing multiple data types."
   ]
  },
  {
   "cell_type": "code",
   "execution_count": null,
   "metadata": {},
   "outputs": [],
   "source": [
    "print(word, 'Hows it going.', *your_list, your_list[3], your_tuple[3], '!')"
   ]
  },
  {
   "cell_type": "markdown",
   "metadata": {},
   "source": [
    "#### 2.3.2 Type"
   ]
  },
  {
   "cell_type": "markdown",
   "metadata": {},
   "source": [
    "Another example of Python built-in functions is `type()`. It is used to show the data type of objects."
   ]
  },
  {
   "cell_type": "code",
   "execution_count": null,
   "metadata": {},
   "outputs": [],
   "source": [
    "type(5)\n",
    "type(3.14)\n",
    "type(word)"
   ]
  },
  {
   "cell_type": "markdown",
   "metadata": {},
   "source": [
    "Once run, only the last line of code result will be displayed. Using the print function allows additional data to be displayed."
   ]
  },
  {
   "cell_type": "code",
   "execution_count": null,
   "metadata": {},
   "outputs": [],
   "source": [
    "print(type(5))\n",
    "print(type(3.14))\n",
    "type(word)"
   ]
  },
  {
   "cell_type": "markdown",
   "metadata": {},
   "source": [
    "#### 2.3.3 Help"
   ]
  },
  {
   "cell_type": "markdown",
   "metadata": {},
   "source": [
    "In Python, the help() function is a built-in utility that provides information and documentation about different aspects of Python such as modules, functions, classes, and methods. It is useful for obtaining details about the purpose, usage, and parameters of various elements for coding."
   ]
  },
  {
   "cell_type": "code",
   "execution_count": null,
   "metadata": {},
   "outputs": [],
   "source": [
    "help(help)"
   ]
  },
  {
   "cell_type": "markdown",
   "metadata": {},
   "source": [
    "### 2.4 Order"
   ]
  },
  {
   "cell_type": "markdown",
   "metadata": {},
   "source": [
    "The order in which lines of code are placed changes the outcome of the program."
   ]
  },
  {
   "cell_type": "code",
   "execution_count": null,
   "metadata": {},
   "outputs": [],
   "source": [
    "s = 2\n",
    "t = 5\n",
    "\n",
    "s += 3\n",
    "t = s + 5\n",
    "\n",
    "print('s: ', s, 't: ', t)"
   ]
  },
  {
   "cell_type": "markdown",
   "metadata": {},
   "source": [
    "### 2.5 Type Conversion"
   ]
  },
  {
   "cell_type": "markdown",
   "metadata": {},
   "source": [
    "Type conversion, also known as type casting, is the process of converting the data type of a variable or value from one type to another."
   ]
  },
  {
   "cell_type": "markdown",
   "metadata": {},
   "source": [
    "Python automatically converts one data type to another when needed, especially during operations involving different data types."
   ]
  },
  {
   "cell_type": "code",
   "execution_count": null,
   "metadata": {},
   "outputs": [],
   "source": [
    "u = 5      # integer\n",
    "v = 2.5    # float\n",
    "\n",
    "result = u + v # float"
   ]
  },
  {
   "cell_type": "markdown",
   "metadata": {},
   "source": [
    "Data can be manually converted using Python functions."
   ]
  },
  {
   "cell_type": "code",
   "execution_count": null,
   "metadata": {},
   "outputs": [],
   "source": [
    "x = 10.5\n",
    "y = int(x)     # Converts 'x' to an integer\n",
    "z = str(x)     # Converts 'x' to a string"
   ]
  },
  {
   "cell_type": "markdown",
   "metadata": {},
   "source": [
    "### 2.6 What's Wrong"
   ]
  },
  {
   "cell_type": "code",
   "execution_count": null,
   "metadata": {},
   "outputs": [],
   "source": [
    "i = 0\n",
    "1j = hello\n",
    "\n",
    "a_list = [56, 22, 13, \"four\"]\n",
    "\n",
    "print[i, j, goodbye, a_list[1]]"
   ]
  },
  {
   "cell_type": "markdown",
   "metadata": {},
   "source": [
    "### 2.7 Try Yourself"
   ]
  },
  {
   "cell_type": "markdown",
   "metadata": {},
   "source": [
    "Try to create code that will print out all elements individually in a list containing 5 elements."
   ]
  },
  {
   "cell_type": "code",
   "execution_count": null,
   "metadata": {},
   "outputs": [],
   "source": [
    "# Code here\n",
    "# Good luck!\n",
    "\n"
   ]
  }
 ],
 "metadata": {
  "kernelspec": {
   "display_name": "Python 3",
   "language": "python",
   "name": "python3"
  },
  "language_info": {
   "codemirror_mode": {
    "name": "ipython",
    "version": 3
   },
   "file_extension": ".py",
   "mimetype": "text/x-python",
   "name": "python",
   "nbconvert_exporter": "python",
   "pygments_lexer": "ipython3",
   "version": "3.7.3"
  }
 },
 "nbformat": 4,
 "nbformat_minor": 2
}
